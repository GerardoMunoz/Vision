{
  "nbformat": 4,
  "nbformat_minor": 0,
  "metadata": {
    "colab": {
      "provenance": [],
      "authorship_tag": "ABX9TyNnmG7MJE675+Bj/naw/+/y",
      "include_colab_link": true
    },
    "kernelspec": {
      "name": "python3",
      "display_name": "Python 3"
    },
    "language_info": {
      "name": "python"
    }
  },
  "cells": [
    {
      "cell_type": "markdown",
      "metadata": {
        "id": "view-in-github",
        "colab_type": "text"
      },
      "source": [
        "<a href=\"https://colab.research.google.com/github/GerardoMunoz/Vision/blob/main/Intro_TF.ipynb\" target=\"_parent\"><img src=\"https://colab.research.google.com/assets/colab-badge.svg\" alt=\"Open In Colab\"/></a>"
      ]
    },
    {
      "cell_type": "markdown",
      "source": [
        "# Intro to TensorFlow\n",
        "\n",
        "## Tensors\n",
        "A **tensor** is a generalization of matrices to more than two dimensions.\n",
        "\n",
        "\n"
      ],
      "metadata": {
        "id": "BnsY8IOTyQuT"
      }
    },
    {
      "cell_type": "code",
      "source": [
        "import tensorflow as tf\n",
        "\n",
        "t = tf.constant([\n",
        "    [[1, 2], [3, 4]],\n",
        "    [[5, 6], [7, 8]]\n",
        "])\n",
        "\n",
        "print(\"Tensor t:\\n\", t)"
      ],
      "metadata": {
        "colab": {
          "base_uri": "https://localhost:8080/"
        },
        "id": "ro5_qSzE1PRy",
        "outputId": "178a69fd-32b1-45b4-a9e9-cc64d47d0b06"
      },
      "execution_count": 1,
      "outputs": [
        {
          "output_type": "stream",
          "name": "stdout",
          "text": [
            "Tensor t:\n",
            " tf.Tensor(\n",
            "[[[1 2]\n",
            "  [3 4]]\n",
            "\n",
            " [[5 6]\n",
            "  [7 8]]], shape=(2, 2, 2), dtype=int32)\n"
          ]
        }
      ]
    },
    {
      "cell_type": "markdown",
      "source": [
        "### Special Cases\n",
        "* A **scalar** is a tensor of 0 dimensions.  \n",
        "* A **vector** is a tensor of 1 dimension.  \n",
        "* A **matrix** is a tensor of 2 dimensions.\n",
        "\n",
        "### Definitions\n",
        "* **Shape:** Describes the lengths of all axes.  \n",
        "* **Size:** The total number of elements in the tensor.  \n",
        "* **Rank:** The number of axes in the tensor. It is not the rank of linear algebra.  \n",
        "* **Axis:** Refers to a specific dimension within the tensor.\n",
        "\n",
        "### Example\n",
        "Consider the following tensor:  \n",
        "`t = tf.constant([[[1, 2], [3, 4]], [[5, 6], [7, 8]]])`\n",
        "\n",
        "* **Shape:** `t.shape` → `(2, 2, 2)`  \n",
        "* **Size:** `2 × 2 × 2 = 8` elements  \n",
        "* **Rank:** 3  \n",
        "* **Axes:**  \n",
        "  * `axis=0` → the outermost dimension (two 2×2 matrices)  \n",
        "  * `axis=1` → the rows within each matrix  \n",
        "  * `axis=2` → the columns within each row"
      ],
      "metadata": {
        "id": "FMfVgBv1Xj1d"
      }
    },
    {
      "cell_type": "code",
      "source": [
        "\n",
        "print(\"Shape:\", t.shape)"
      ],
      "metadata": {
        "colab": {
          "base_uri": "https://localhost:8080/"
        },
        "id": "JdNb0ci31POh",
        "outputId": "b74c3d71-9ec6-453e-ccec-aada8253980d"
      },
      "execution_count": 2,
      "outputs": [
        {
          "output_type": "stream",
          "name": "stdout",
          "text": [
            "Shape: (2, 2, 2)\n"
          ]
        }
      ]
    },
    {
      "cell_type": "code",
      "source": [
        "print(\"Size:\", tf.size(t))"
      ],
      "metadata": {
        "colab": {
          "base_uri": "https://localhost:8080/"
        },
        "id": "HaF4D6co1PLq",
        "outputId": "e1119eec-196b-412a-ed40-08d3607dafad"
      },
      "execution_count": 3,
      "outputs": [
        {
          "output_type": "stream",
          "name": "stdout",
          "text": [
            "Size: tf.Tensor(8, shape=(), dtype=int32)\n"
          ]
        }
      ]
    },
    {
      "cell_type": "code",
      "source": [
        "#t.size\n",
        "'''error\n",
        "---------------------------------------------------------------------------\n",
        "AttributeError                            Traceback (most recent call last)\n",
        "/tmp/ipython-input-271257305.py in <cell line: 0>()\n",
        "----> 1 t.size\n",
        "\n",
        "/usr/local/lib/python3.12/dist-packages/tensorflow/python/framework/tensor.py in __getattr__(self, name)\n",
        "    253                 \"tolist\", \"data\"}:\n",
        "    254       # TODO(wangpeng): Export the enable_numpy_behavior knob\n",
        "--> 255       raise AttributeError(\n",
        "    256           f\"{type(self).__name__} object has no attribute '{name}'. \" + \"\"\"\n",
        "    257         If you are looking for numpy-related methods, please run the following:\n",
        "\n",
        "AttributeError: EagerTensor object has no attribute 'size'.\n",
        "        If you are looking for numpy-related methods, please run the following:\n",
        "        tf.experimental.numpy.experimental_enable_numpy_behavior(\n",
        "'''"
      ],
      "metadata": {
        "colab": {
          "base_uri": "https://localhost:8080/",
          "height": 105
        },
        "id": "no0cm4x3xwkq",
        "outputId": "33417777-0a52-4011-e594-d2e26bc8d275"
      },
      "execution_count": 8,
      "outputs": [
        {
          "output_type": "execute_result",
          "data": {
            "text/plain": [
              "'error\\n---------------------------------------------------------------------------\\nAttributeError                            Traceback (most recent call last)\\n/tmp/ipython-input-271257305.py in <cell line: 0>()\\n----> 1 t.size\\n\\n/usr/local/lib/python3.12/dist-packages/tensorflow/python/framework/tensor.py in __getattr__(self, name)\\n    253                 \"tolist\", \"data\"}:\\n    254       # TODO(wangpeng): Export the enable_numpy_behavior knob\\n--> 255       raise AttributeError(\\n    256           f\"{type(self).__name__} object has no attribute \\'{name}\\'. \" + \"\"\"\\n    257         If you are looking for numpy-related methods, please run the following:\\n\\nAttributeError: EagerTensor object has no attribute \\'size\\'. \\n        If you are looking for numpy-related methods, please run the following:\\n        tf.experimental.numpy.experimental_enable_numpy_behavior(\\n'"
            ],
            "application/vnd.google.colaboratory.intrinsic+json": {
              "type": "string"
            }
          },
          "metadata": {},
          "execution_count": 8
        }
      ]
    },
    {
      "cell_type": "code",
      "source": [
        "print(\"Rank:\", tf.rank(t)) # It is not the rank of linear algebra"
      ],
      "metadata": {
        "colab": {
          "base_uri": "https://localhost:8080/"
        },
        "id": "0lAgpIDg1PIz",
        "outputId": "79d22a1c-237f-4de1-c73c-b36282273874"
      },
      "execution_count": 9,
      "outputs": [
        {
          "output_type": "stream",
          "name": "stdout",
          "text": [
            "Rank: tf.Tensor(3, shape=(), dtype=int32)\n"
          ]
        }
      ]
    },
    {
      "cell_type": "code",
      "source": [
        "# Accessing elements along different axes\n",
        "print(\"Axis 0 (outermost):\")\n",
        "print('t[0]=',t[0])  # first 2x2 matrix\n",
        "print('t[1]=',t[1])  # second 2x2 matrix"
      ],
      "metadata": {
        "colab": {
          "base_uri": "https://localhost:8080/"
        },
        "id": "D53AyU2U1PFa",
        "outputId": "419143d8-48bb-427b-fd8a-1f6c7e443453"
      },
      "execution_count": 10,
      "outputs": [
        {
          "output_type": "stream",
          "name": "stdout",
          "text": [
            "Axis 0 (outermost):\n",
            "t[0]= tf.Tensor(\n",
            "[[1 2]\n",
            " [3 4]], shape=(2, 2), dtype=int32)\n",
            "t[1]= tf.Tensor(\n",
            "[[5 6]\n",
            " [7 8]], shape=(2, 2), dtype=int32)\n"
          ]
        }
      ]
    },
    {
      "cell_type": "code",
      "source": [
        "print(\"Axis 1 (rows within each matrix):\")\n",
        "print('t[:, 0]=',t[:, 0])  # first row from each matrix\n",
        "print('t[:, 1]=',t[:, 1])  # second row from each matrix"
      ],
      "metadata": {
        "colab": {
          "base_uri": "https://localhost:8080/"
        },
        "id": "F_jaHbH21PCh",
        "outputId": "3b5cd88a-fd2c-4bea-e525-b0e96b2400d6"
      },
      "execution_count": 11,
      "outputs": [
        {
          "output_type": "stream",
          "name": "stdout",
          "text": [
            "Axis 1 (rows within each matrix):\n",
            "t[:, 0]= tf.Tensor(\n",
            "[[1 2]\n",
            " [5 6]], shape=(2, 2), dtype=int32)\n",
            "t[:, 1]= tf.Tensor(\n",
            "[[3 4]\n",
            " [7 8]], shape=(2, 2), dtype=int32)\n"
          ]
        }
      ]
    },
    {
      "cell_type": "code",
      "source": [
        "print(\"Axis 2 (columns within each row):\")\n",
        "print('t[:, :, 0]=',t[:, :, 0])  # first column from each row\n",
        "print('t[:, :, 1=',t[:, :, 1])  # second column from each row\n"
      ],
      "metadata": {
        "colab": {
          "base_uri": "https://localhost:8080/"
        },
        "id": "WQbOn1WX0zl7",
        "outputId": "65f2105e-7957-4254-b354-7d3b74a359df"
      },
      "execution_count": 12,
      "outputs": [
        {
          "output_type": "stream",
          "name": "stdout",
          "text": [
            "Axis 2 (columns within each row):\n",
            "t[:, :, 0]= tf.Tensor(\n",
            "[[1 3]\n",
            " [5 7]], shape=(2, 2), dtype=int32)\n",
            "t[:, :, 1= tf.Tensor(\n",
            "[[2 4]\n",
            " [6 8]], shape=(2, 2), dtype=int32)\n"
          ]
        }
      ]
    },
    {
      "cell_type": "markdown",
      "source": [
        "### More about tensors\n",
        "* https://www.tensorflow.org/tutorials/customization/basics?hl=es-419"
      ],
      "metadata": {
        "id": "wSgOAVJJPXyJ"
      }
    },
    {
      "cell_type": "markdown",
      "source": [
        "## TensorFlow Playground\n",
        "\n",
        "* https://playground.tensorflow.org/\n",
        "\n",
        "##"
      ],
      "metadata": {
        "id": "tN1CY-DnO7Uw"
      }
    },
    {
      "cell_type": "markdown",
      "source": [
        "## CNN\n",
        "* https://gerardomunoz.github.io/ML_2025/Conv2D.html\n",
        "* https://youtu.be/eMXuk97NeSI?t=19"
      ],
      "metadata": {
        "id": "8Tl2jrGIRY32"
      }
    },
    {
      "cell_type": "markdown",
      "source": [
        "## Transposed Convolution\n",
        "It is used in autoencoders to increase the number of pixels in the image, it is the opposite operation to Pooling\n",
        "* https://gerardomunoz.github.io/ML_2025/Conv2DTranspose.html"
      ],
      "metadata": {
        "id": "DuL-OlrkUn-O"
      }
    },
    {
      "cell_type": "markdown",
      "source": [
        "## Example of Neural Networks\n",
        "\n",
        "* Dense https://colab.research.google.com/github/tensorflow/docs-l10n/blob/master/site/es-419/tutorials/quickstart/beginner.ipynb?hl=es-419\n",
        "\n",
        "* CNN https://colab.research.google.com/github/tensorflow/docs-l10n/blob/master/site/es-419/tutorials/keras/classification.ipynb?hl=es-419\n",
        "\n",
        "* Autoencoders https://colab.research.google.com/github/tensorflow/docs/blob/master/site/en/tutorials/generative/autoencoder.ipynb?hl=es-419\n",
        "\n",
        "\n"
      ],
      "metadata": {
        "id": "47xVJ7xcQBIm"
      }
    },
    {
      "cell_type": "markdown",
      "source": [
        "##"
      ],
      "metadata": {
        "id": "jsqJHsrjPp4h"
      }
    }
  ]
}