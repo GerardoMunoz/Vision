{
  "cells": [
    {
      "cell_type": "markdown",
      "metadata": {
        "id": "Ndo4ERqnwQOU"
      },
      "source": [
        "##### Copyright 2020 The TensorFlow Authors."
      ]
    },
    {
      "cell_type": "code",
      "execution_count": 1,
      "metadata": {
        "cellView": "form",
        "id": "MTKwbguKwT4R"
      },
      "outputs": [],
      "source": [
        "#@title Licensed under the Apache License, Version 2.0 (the \"License\");\n",
        "# you may not use this file except in compliance with the License.\n",
        "# You may obtain a copy of the License at\n",
        "#\n",
        "# https://www.apache.org/licenses/LICENSE-2.0\n",
        "#\n",
        "# Unless required by applicable law or agreed to in writing, software\n",
        "# distributed under the License is distributed on an \"AS IS\" BASIS,\n",
        "# WITHOUT WARRANTIES OR CONDITIONS OF ANY KIND, either express or implied.\n",
        "# See the License for the specific language governing permissions and\n",
        "# limitations under the License."
      ]
    },
    {
      "cell_type": "markdown",
      "metadata": {
        "id": "xfNT-mlFwxVM"
      },
      "source": [
        "# Convolutional Variational Autoencoder"
      ]
    },
    {
      "cell_type": "markdown",
      "metadata": {
        "id": "0TD5ZrvEMbhZ"
      },
      "source": [
        "<table class=\"tfo-notebook-buttons\" align=\"left\">\n",
        "  <td>\n",
        "    <a target=\"_blank\" href=\"https://www.tensorflow.org/tutorials/generative/cvae\">\n",
        "    <img src=\"https://www.tensorflow.org/images/tf_logo_32px.png\" />\n",
        "    View on TensorFlow.org</a>\n",
        "  </td>\n",
        "  <td>\n",
        "    <a target=\"_blank\" href=\"https://colab.research.google.com/github/tensorflow/docs/blob/master/site/en/tutorials/generative/cvae.ipynb\">\n",
        "    <img src=\"https://www.tensorflow.org/images/colab_logo_32px.png\" />\n",
        "    Run in Google Colab</a>\n",
        "  </td>\n",
        "  <td>\n",
        "    <a target=\"_blank\" href=\"https://github.com/tensorflow/docs/blob/master/site/en/tutorials/generative/cvae.ipynb\">\n",
        "    <img src=\"https://www.tensorflow.org/images/GitHub-Mark-32px.png\" />\n",
        "    View source on GitHub</a>\n",
        "  </td>\n",
        "  <td>\n",
        "    <a href=\"https://storage.googleapis.com/tensorflow_docs/docs/site/en/tutorials/generative/cvae.ipynb\"><img src=\"https://www.tensorflow.org/images/download_logo_32px.png\" />Download notebook</a>\n",
        "  </td>\n",
        "</table>"
      ]
    },
    {
      "cell_type": "markdown",
      "metadata": {
        "id": "ITZuApL56Mny"
      },
      "source": [
        "This notebook demonstrates how to train a Variational Autoencoder (VAE) ([1](https://arxiv.org/abs/1312.6114), [2](https://arxiv.org/abs/1401.4082)) on the MNIST dataset. A VAE is a probabilistic take on the autoencoder, a model which takes high dimensional input data and compresses it into a smaller representation. Unlike a traditional autoencoder, which maps the input onto a latent vector, a VAE maps the input data into the parameters of a probability distribution, such as the mean and variance of a Gaussian. This approach produces a continuous, structured latent space, which is useful for image generation.\n",
        "\n",
        "![CVAE image latent space](https://github.com/tensorflow/docs/blob/master/site/en/tutorials/generative/images/cvae_latent_space.jpg?raw=1)"
      ]
    },
    {
      "cell_type": "markdown",
      "metadata": {
        "id": "e1_Y75QXJS6h"
      },
      "source": [
        "## Setup"
      ]
    },
    {
      "cell_type": "code",
      "execution_count": 2,
      "metadata": {
        "id": "P-JuIu2N_SQf",
        "outputId": "cd7a176a-70b6-49de-a4cd-b36e54d9f9c8",
        "colab": {
          "base_uri": "https://localhost:8080/"
        }
      },
      "outputs": [
        {
          "output_type": "stream",
          "name": "stdout",
          "text": [
            "Requirement already satisfied: tensorflow-probability in /usr/local/lib/python3.11/dist-packages (0.25.0)\n",
            "Requirement already satisfied: absl-py in /usr/local/lib/python3.11/dist-packages (from tensorflow-probability) (1.4.0)\n",
            "Requirement already satisfied: six>=1.10.0 in /usr/local/lib/python3.11/dist-packages (from tensorflow-probability) (1.17.0)\n",
            "Requirement already satisfied: numpy>=1.13.3 in /usr/local/lib/python3.11/dist-packages (from tensorflow-probability) (2.0.2)\n",
            "Requirement already satisfied: decorator in /usr/local/lib/python3.11/dist-packages (from tensorflow-probability) (4.4.2)\n",
            "Requirement already satisfied: cloudpickle>=1.3 in /usr/local/lib/python3.11/dist-packages (from tensorflow-probability) (3.1.1)\n",
            "Requirement already satisfied: gast>=0.3.2 in /usr/local/lib/python3.11/dist-packages (from tensorflow-probability) (0.6.0)\n",
            "Requirement already satisfied: dm-tree in /usr/local/lib/python3.11/dist-packages (from tensorflow-probability) (0.1.9)\n",
            "Requirement already satisfied: attrs>=18.2.0 in /usr/local/lib/python3.11/dist-packages (from dm-tree->tensorflow-probability) (25.3.0)\n",
            "Requirement already satisfied: wrapt>=1.11.2 in /usr/local/lib/python3.11/dist-packages (from dm-tree->tensorflow-probability) (1.17.2)\n",
            "Requirement already satisfied: imageio in /usr/local/lib/python3.11/dist-packages (2.37.0)\n",
            "Requirement already satisfied: numpy in /usr/local/lib/python3.11/dist-packages (from imageio) (2.0.2)\n",
            "Requirement already satisfied: pillow>=8.3.2 in /usr/local/lib/python3.11/dist-packages (from imageio) (11.1.0)\n",
            "Collecting git+https://github.com/tensorflow/docs\n",
            "  Cloning https://github.com/tensorflow/docs to /tmp/pip-req-build-135axx9h\n",
            "  Running command git clone --filter=blob:none --quiet https://github.com/tensorflow/docs /tmp/pip-req-build-135axx9h\n",
            "  Resolved https://github.com/tensorflow/docs to commit a8576cef38b7182e6228d7aafca8ef51754ab9e8\n",
            "  Preparing metadata (setup.py) ... \u001b[?25l\u001b[?25hdone\n",
            "Collecting astor (from tensorflow-docs==2025.3.6.10029)\n",
            "  Downloading astor-0.8.1-py2.py3-none-any.whl.metadata (4.2 kB)\n",
            "Requirement already satisfied: absl-py in /usr/local/lib/python3.11/dist-packages (from tensorflow-docs==2025.3.6.10029) (1.4.0)\n",
            "Requirement already satisfied: jinja2 in /usr/local/lib/python3.11/dist-packages (from tensorflow-docs==2025.3.6.10029) (3.1.6)\n",
            "Requirement already satisfied: nbformat in /usr/local/lib/python3.11/dist-packages (from tensorflow-docs==2025.3.6.10029) (5.10.4)\n",
            "Requirement already satisfied: protobuf>=3.12 in /usr/local/lib/python3.11/dist-packages (from tensorflow-docs==2025.3.6.10029) (5.29.4)\n",
            "Requirement already satisfied: pyyaml in /usr/local/lib/python3.11/dist-packages (from tensorflow-docs==2025.3.6.10029) (6.0.2)\n",
            "Requirement already satisfied: MarkupSafe>=2.0 in /usr/local/lib/python3.11/dist-packages (from jinja2->tensorflow-docs==2025.3.6.10029) (3.0.2)\n",
            "Requirement already satisfied: fastjsonschema>=2.15 in /usr/local/lib/python3.11/dist-packages (from nbformat->tensorflow-docs==2025.3.6.10029) (2.21.1)\n",
            "Requirement already satisfied: jsonschema>=2.6 in /usr/local/lib/python3.11/dist-packages (from nbformat->tensorflow-docs==2025.3.6.10029) (4.23.0)\n",
            "Requirement already satisfied: jupyter-core!=5.0.*,>=4.12 in /usr/local/lib/python3.11/dist-packages (from nbformat->tensorflow-docs==2025.3.6.10029) (5.7.2)\n",
            "Requirement already satisfied: traitlets>=5.1 in /usr/local/lib/python3.11/dist-packages (from nbformat->tensorflow-docs==2025.3.6.10029) (5.7.1)\n",
            "Requirement already satisfied: attrs>=22.2.0 in /usr/local/lib/python3.11/dist-packages (from jsonschema>=2.6->nbformat->tensorflow-docs==2025.3.6.10029) (25.3.0)\n",
            "Requirement already satisfied: jsonschema-specifications>=2023.03.6 in /usr/local/lib/python3.11/dist-packages (from jsonschema>=2.6->nbformat->tensorflow-docs==2025.3.6.10029) (2024.10.1)\n",
            "Requirement already satisfied: referencing>=0.28.4 in /usr/local/lib/python3.11/dist-packages (from jsonschema>=2.6->nbformat->tensorflow-docs==2025.3.6.10029) (0.36.2)\n",
            "Requirement already satisfied: rpds-py>=0.7.1 in /usr/local/lib/python3.11/dist-packages (from jsonschema>=2.6->nbformat->tensorflow-docs==2025.3.6.10029) (0.24.0)\n",
            "Requirement already satisfied: platformdirs>=2.5 in /usr/local/lib/python3.11/dist-packages (from jupyter-core!=5.0.*,>=4.12->nbformat->tensorflow-docs==2025.3.6.10029) (4.3.7)\n",
            "Requirement already satisfied: typing-extensions>=4.4.0 in /usr/local/lib/python3.11/dist-packages (from referencing>=0.28.4->jsonschema>=2.6->nbformat->tensorflow-docs==2025.3.6.10029) (4.13.2)\n",
            "Downloading astor-0.8.1-py2.py3-none-any.whl (27 kB)\n",
            "Building wheels for collected packages: tensorflow-docs\n",
            "  Building wheel for tensorflow-docs (setup.py) ... \u001b[?25l\u001b[?25hdone\n",
            "  Created wheel for tensorflow-docs: filename=tensorflow_docs-2025.3.6.10029-py3-none-any.whl size=186351 sha256=e93965a0a39443051f5f4944d3715b1a611546920a425429891798faf7375e94\n",
            "  Stored in directory: /tmp/pip-ephem-wheel-cache-vicp9htu/wheels/34/53/89/3db54cf97ce0f0261aaab3fdc12a847ea0879d34edf373e2c5\n",
            "Successfully built tensorflow-docs\n",
            "Installing collected packages: astor, tensorflow-docs\n",
            "Successfully installed astor-0.8.1 tensorflow-docs-2025.3.6.10029\n"
          ]
        }
      ],
      "source": [
        "!pip install tensorflow-probability\n",
        "\n",
        "# to generate gifs\n",
        "!pip install imageio\n",
        "!pip install git+https://github.com/tensorflow/docs"
      ]
    },
    {
      "cell_type": "code",
      "execution_count": 3,
      "metadata": {
        "id": "YfIk2es3hJEd"
      },
      "outputs": [],
      "source": [
        "from IPython import display\n",
        "\n",
        "import glob\n",
        "import imageio\n",
        "import matplotlib.pyplot as plt\n",
        "import numpy as np\n",
        "import PIL\n",
        "import tensorflow as tf\n",
        "import tensorflow_probability as tfp\n",
        "import time"
      ]
    },
    {
      "cell_type": "markdown",
      "metadata": {
        "id": "iYn4MdZnKCey"
      },
      "source": [
        "## Load the MNIST dataset\n",
        "Each MNIST image is originally a vector of 784 integers, each of which is between 0-255 and represents the intensity of a pixel. Model each pixel with a Bernoulli distribution in our model, and statically binarize the dataset."
      ]
    },
    {
      "cell_type": "code",
      "execution_count": 4,
      "metadata": {
        "id": "a4fYMGxGhrna",
        "outputId": "e23aff67-c223-4aa7-d5a5-d204c92c4936",
        "colab": {
          "base_uri": "https://localhost:8080/"
        }
      },
      "outputs": [
        {
          "output_type": "stream",
          "name": "stdout",
          "text": [
            "Downloading data from https://storage.googleapis.com/tensorflow/tf-keras-datasets/mnist.npz\n",
            "\u001b[1m11490434/11490434\u001b[0m \u001b[32m━━━━━━━━━━━━━━━━━━━━\u001b[0m\u001b[37m\u001b[0m \u001b[1m2s\u001b[0m 0us/step\n"
          ]
        }
      ],
      "source": [
        "(train_images, _), (test_images, _) = tf.keras.datasets.mnist.load_data()"
      ]
    },
    {
      "cell_type": "code",
      "execution_count": 5,
      "metadata": {
        "id": "NFC2ghIdiZYE"
      },
      "outputs": [],
      "source": [
        "def preprocess_images(images):\n",
        "  images = images.reshape((images.shape[0], 28, 28, 1)) / 255.\n",
        "  return np.where(images > .5, 1.0, 0.0).astype('float32')\n",
        "\n",
        "train_images = preprocess_images(train_images)\n",
        "test_images = preprocess_images(test_images)"
      ]
    },
    {
      "cell_type": "code",
      "execution_count": 6,
      "metadata": {
        "id": "S4PIDhoDLbsZ"
      },
      "outputs": [],
      "source": [
        "train_size = 60000\n",
        "batch_size = 32\n",
        "test_size = 10000"
      ]
    },
    {
      "cell_type": "markdown",
      "metadata": {
        "id": "PIGN6ouoQxt3"
      },
      "source": [
        "## Use *tf.data* to batch and shuffle the data"
      ]
    },
    {
      "cell_type": "code",
      "execution_count": 7,
      "metadata": {
        "id": "-yKCCQOoJ7cn"
      },
      "outputs": [],
      "source": [
        "train_dataset = (tf.data.Dataset.from_tensor_slices(train_images)\n",
        "                 .shuffle(train_size).batch(batch_size))\n",
        "test_dataset = (tf.data.Dataset.from_tensor_slices(test_images)\n",
        "                .shuffle(test_size).batch(batch_size))"
      ]
    },
    {
      "cell_type": "markdown",
      "metadata": {
        "id": "THY-sZMiQ4UV"
      },
      "source": [
        "## Define the encoder and decoder networks with *tf.keras.Sequential*\n",
        "\n",
        "In this VAE example, use two small ConvNets for the encoder and decoder networks. In the literature, these networks are also referred to as inference/recognition and generative models respectively. Use `tf.keras.Sequential` to simplify implementation. Let $x$ and $z$ denote the observation and latent variable respectively in the following descriptions.\n",
        "\n",
        "### Encoder network\n",
        "This defines the approximate posterior distribution $q(z|x)$, which takes as input an observation and outputs a set of parameters for specifying the conditional distribution of the latent representation $z$.\n",
        "In this example, simply model the distribution as a diagonal Gaussian, and the network outputs the mean and log-variance parameters of a factorized Gaussian.\n",
        "Output log-variance instead of the variance directly for numerical stability.\n",
        "\n",
        "### Decoder network\n",
        "This defines the conditional distribution of the observation $p(x|z)$, which takes a latent sample $z$ as input and outputs the parameters for a conditional distribution of the observation.\n",
        "Model the latent distribution prior $p(z)$ as a unit Gaussian.\n",
        "\n",
        "### Reparameterization trick\n",
        "To generate a sample $z$ for the decoder during training, you can sample from the latent distribution defined by the parameters outputted by the encoder, given an input observation $x$.\n",
        "However, this sampling operation creates a bottleneck because backpropagation cannot flow through a random node.\n",
        "\n",
        "To address this, use a reparameterization trick.\n",
        "In our example, you approximate $z$ using the decoder parameters and another parameter $\\epsilon$ as follows:\n",
        "\n",
        "$$z = \\mu + \\sigma \\odot \\epsilon$$\n",
        "\n",
        "where $\\mu$ and $\\sigma$ represent the mean and standard deviation of a Gaussian distribution respectively. They can be derived from the decoder output. The $\\epsilon$ can be thought of as a random noise used to maintain stochasticity of $z$. Generate $\\epsilon$ from a standard normal distribution.\n",
        "\n",
        "The latent variable $z$ is now generated by a function of $\\mu$, $\\sigma$ and $\\epsilon$, which would enable the model to backpropagate gradients in the encoder through $\\mu$ and $\\sigma$ respectively, while maintaining stochasticity through $\\epsilon$.\n",
        "\n",
        "### Network architecture\n",
        "For the encoder network, use two convolutional layers followed by a fully-connected layer. In the decoder network, mirror this architecture by using a fully-connected layer followed by three convolution transpose layers (a.k.a. deconvolutional layers in some contexts). Note, it's common practice to avoid using batch normalization when training VAEs, since the additional stochasticity due to using mini-batches may aggravate instability on top of the stochasticity from sampling.\n"
      ]
    },
    {
      "cell_type": "code",
      "execution_count": 8,
      "metadata": {
        "id": "VGLbvBEmjK0a"
      },
      "outputs": [],
      "source": [
        "class CVAE(tf.keras.Model):\n",
        "  \"\"\"Convolutional variational autoencoder.\"\"\"\n",
        "\n",
        "  def __init__(self, latent_dim):\n",
        "    super(CVAE, self).__init__()\n",
        "    self.latent_dim = latent_dim\n",
        "    self.encoder = tf.keras.Sequential(\n",
        "        [\n",
        "            tf.keras.layers.InputLayer(input_shape=(28, 28, 1)),\n",
        "            tf.keras.layers.Conv2D(\n",
        "                filters=32, kernel_size=3, strides=(2, 2), activation='relu'),\n",
        "            tf.keras.layers.Conv2D(\n",
        "                filters=64, kernel_size=3, strides=(2, 2), activation='relu'),\n",
        "            tf.keras.layers.Flatten(),\n",
        "            # No activation\n",
        "            tf.keras.layers.Dense(latent_dim + latent_dim),\n",
        "        ]\n",
        "    )\n",
        "\n",
        "    self.decoder = tf.keras.Sequential(\n",
        "        [\n",
        "            tf.keras.layers.InputLayer(input_shape=(latent_dim,)),\n",
        "            tf.keras.layers.Dense(units=7*7*32, activation=tf.nn.relu),\n",
        "            tf.keras.layers.Reshape(target_shape=(7, 7, 32)),\n",
        "            tf.keras.layers.Conv2DTranspose(\n",
        "                filters=64, kernel_size=3, strides=2, padding='same',\n",
        "                activation='relu'),\n",
        "            tf.keras.layers.Conv2DTranspose(\n",
        "                filters=32, kernel_size=3, strides=2, padding='same',\n",
        "                activation='relu'),\n",
        "            # No activation\n",
        "            tf.keras.layers.Conv2DTranspose(\n",
        "                filters=1, kernel_size=3, strides=1, padding='same'),\n",
        "        ]\n",
        "    )\n",
        "\n",
        "  @tf.function\n",
        "  def sample(self, eps=None):\n",
        "    if eps is None:\n",
        "      eps = tf.random.normal(shape=(100, self.latent_dim))\n",
        "    return self.decode(eps, apply_sigmoid=True)\n",
        "\n",
        "  def encode(self, x):\n",
        "    mean, logvar = tf.split(self.encoder(x), num_or_size_splits=2, axis=1)\n",
        "    return mean, logvar\n",
        "\n",
        "  def reparameterize(self, mean, logvar):\n",
        "    eps = tf.random.normal(shape=mean.shape)\n",
        "    return eps * tf.exp(logvar * .5) + mean\n",
        "\n",
        "  def decode(self, z, apply_sigmoid=False):\n",
        "    logits = self.decoder(z)\n",
        "    if apply_sigmoid:\n",
        "      probs = tf.sigmoid(logits)\n",
        "      return probs\n",
        "    return logits"
      ]
    },
    {
      "cell_type": "markdown",
      "metadata": {
        "id": "0FMYgY_mPfTi"
      },
      "source": [
        "## Define the loss function and the optimizer\n",
        "\n",
        "VAEs train by maximizing the evidence lower bound (ELBO) on the marginal log-likelihood:\n",
        "\n",
        "$$\\log p(x) \\ge \\text{ELBO} = \\mathbb{E}_{q(z|x)}\\left[\\log \\frac{p(x, z)}{q(z|x)}\\right].$$\n",
        "\n",
        "In practice, optimize the single sample Monte Carlo estimate of this expectation:\n",
        "\n",
        "$$\\log p(x| z) + \\log p(z) - \\log q(z|x),$$\n",
        "where $z$ is sampled from $q(z|x)$.\n",
        "\n",
        "Note: You could also analytically compute the KL term, but here you incorporate all three terms in the Monte Carlo estimator for simplicity."
      ]
    },
    {
      "cell_type": "code",
      "execution_count": 9,
      "metadata": {
        "id": "iWCn_PVdEJZ7"
      },
      "outputs": [],
      "source": [
        "optimizer = tf.keras.optimizers.Adam(1e-4)\n",
        "\n",
        "\n",
        "def log_normal_pdf(sample, mean, logvar, raxis=1):\n",
        "  log2pi = tf.math.log(2. * np.pi)\n",
        "  return tf.reduce_sum(\n",
        "      -.5 * ((sample - mean) ** 2. * tf.exp(-logvar) + logvar + log2pi),\n",
        "      axis=raxis)\n",
        "\n",
        "\n",
        "def compute_loss(model, x):\n",
        "  mean, logvar = model.encode(x)\n",
        "  z = model.reparameterize(mean, logvar)\n",
        "  x_logit = model.decode(z)\n",
        "  cross_ent = tf.nn.sigmoid_cross_entropy_with_logits(logits=x_logit, labels=x)\n",
        "  logpx_z = -tf.reduce_sum(cross_ent, axis=[1, 2, 3])\n",
        "  logpz = log_normal_pdf(z, 0., 0.)\n",
        "  logqz_x = log_normal_pdf(z, mean, logvar)\n",
        "  return -tf.reduce_mean(logpx_z + logpz - logqz_x)\n",
        "\n",
        "\n",
        "@tf.function\n",
        "def train_step(model, x, optimizer):\n",
        "  \"\"\"Executes one training step and returns the loss.\n",
        "\n",
        "  This function computes the loss and gradients, and uses the latter to\n",
        "  update the model's parameters.\n",
        "  \"\"\"\n",
        "  with tf.GradientTape() as tape:\n",
        "    loss = compute_loss(model, x)\n",
        "  gradients = tape.gradient(loss, model.trainable_variables)\n",
        "  optimizer.apply_gradients(zip(gradients, model.trainable_variables))\n",
        "  return loss"
      ]
    },
    {
      "cell_type": "markdown",
      "metadata": {
        "id": "Rw1fkAczTQYh"
      },
      "source": [
        "## Training\n",
        "\n",
        "* Start by iterating over the dataset\n",
        "* During each iteration, pass the image to the encoder to obtain a set of mean and log-variance parameters of the approximate posterior $q(z|x)$\n",
        "* then apply the *reparameterization trick* to sample from $q(z|x)$\n",
        "* Finally, pass the reparameterized samples to the decoder to obtain the logits of the generative distribution $p(x|z)$\n",
        "* Note: Since you use the dataset loaded by keras with 60k datapoints in the training set and 10k datapoints in the test set, our resulting ELBO on the test set is slightly higher than reported results in the literature which uses dynamic binarization of Larochelle's MNIST.\n",
        "\n",
        "### Generating images\n",
        "\n",
        "* After training, it is time to generate some images\n",
        "* Start by sampling a set of latent vectors from the unit Gaussian prior distribution $p(z)$\n",
        "* The generator will then convert the latent sample $z$ to logits of the observation, giving a distribution $p(x|z)$\n",
        "* Here, plot the probabilities of Bernoulli distributions\n"
      ]
    },
    {
      "cell_type": "code",
      "execution_count": 10,
      "metadata": {
        "id": "NS2GWywBbAWo",
        "outputId": "3d02c23e-3078-4307-993f-d50229ed6bff",
        "colab": {
          "base_uri": "https://localhost:8080/"
        }
      },
      "outputs": [
        {
          "output_type": "stream",
          "name": "stderr",
          "text": [
            "/usr/local/lib/python3.11/dist-packages/keras/src/layers/core/input_layer.py:27: UserWarning: Argument `input_shape` is deprecated. Use `shape` instead.\n",
            "  warnings.warn(\n"
          ]
        }
      ],
      "source": [
        "epochs = 10\n",
        "# set the dimensionality of the latent space to a plane for visualization later\n",
        "latent_dim = 2\n",
        "num_examples_to_generate = 16\n",
        "\n",
        "# keeping the random vector constant for generation (prediction) so\n",
        "# it will be easier to see the improvement.\n",
        "random_vector_for_generation = tf.random.normal(\n",
        "    shape=[num_examples_to_generate, latent_dim])\n",
        "model = CVAE(latent_dim)"
      ]
    },
    {
      "cell_type": "code",
      "execution_count": 11,
      "metadata": {
        "id": "RmdVsmvhPxyy"
      },
      "outputs": [],
      "source": [
        "def generate_and_save_images(model, epoch, test_sample):\n",
        "  mean, logvar = model.encode(test_sample)\n",
        "  z = model.reparameterize(mean, logvar)\n",
        "  predictions = model.sample(z)\n",
        "  fig = plt.figure(figsize=(4, 4))\n",
        "\n",
        "  for i in range(predictions.shape[0]):\n",
        "    plt.subplot(4, 4, i + 1)\n",
        "    plt.imshow(predictions[i, :, :, 0], cmap='gray')\n",
        "    plt.axis('off')\n",
        "\n",
        "  # tight_layout minimizes the overlap between 2 sub-plots\n",
        "  plt.savefig('image_at_epoch_{:04d}.png'.format(epoch))\n",
        "  plt.show()"
      ]
    },
    {
      "cell_type": "code",
      "execution_count": 12,
      "metadata": {
        "id": "swCyrbqQQ-Ri"
      },
      "outputs": [],
      "source": [
        "# Pick a sample of the test set for generating output images\n",
        "assert batch_size >= num_examples_to_generate\n",
        "for test_batch in test_dataset.take(1):\n",
        "  test_sample = test_batch[0:num_examples_to_generate, :, :, :]"
      ]
    },
    {
      "cell_type": "code",
      "execution_count": null,
      "metadata": {
        "id": "2M7LmLtGEMQJ",
        "outputId": "3b388950-4937-4520-8fe5-83a2a1590a29",
        "colab": {
          "base_uri": "https://localhost:8080/",
          "height": 1000
        }
      },
      "outputs": [
        {
          "output_type": "stream",
          "name": "stdout",
          "text": [
            "Epoch: 3, Test set ELBO: -166.2895050048828, time elapse for current epoch: 9.69668173789978\n"
          ]
        },
        {
          "output_type": "display_data",
          "data": {
            "text/plain": [
              "<Figure size 400x400 with 16 Axes>"
            ],
            "image/png": "[encoded data removed]"
          },
          "metadata": {}
        },
        {
          "output_type": "stream",
          "name": "stdout",
          "text": [
            "loss: tf.Tensor(158.10469, shape=(), dtype=float32)\n",
            "loss: tf.Tensor(161.22333, shape=(), dtype=float32)\n",
            "loss: tf.Tensor(169.3522, shape=(), dtype=float32)\n",
            "loss: tf.Tensor(159.4533, shape=(), dtype=float32)\n",
            "loss: tf.Tensor(185.18378, shape=(), dtype=float32)\n",
            "loss: tf.Tensor(169.66696, shape=(), dtype=float32)\n",
            "loss: tf.Tensor(158.67969, shape=(), dtype=float32)\n",
            "loss: tf.Tensor(169.65367, shape=(), dtype=float32)\n",
            "loss: tf.Tensor(164.88153, shape=(), dtype=float32)\n",
            "loss: tf.Tensor(159.7579, shape=(), dtype=float32)\n",
            "loss: tf.Tensor(167.4112, shape=(), dtype=float32)\n",
            "loss: tf.Tensor(185.40497, shape=(), dtype=float32)\n",
            "loss: tf.Tensor(149.0177, shape=(), dtype=float32)\n",
            "loss: tf.Tensor(176.25644, shape=(), dtype=float32)\n",
            "loss: tf.Tensor(173.56822, shape=(), dtype=float32)\n",
            "loss: tf.Tensor(163.42694, shape=(), dtype=float32)\n",
            "loss: tf.Tensor(167.61435, shape=(), dtype=float32)\n",
            "loss: tf.Tensor(155.1793, shape=(), dtype=float32)\n",
            "loss: tf.Tensor(183.60294, shape=(), dtype=float32)\n",
            "loss: tf.Tensor(165.52823, shape=(), dtype=float32)\n",
            "loss: tf.Tensor(176.4007, shape=(), dtype=float32)\n",
            "loss: tf.Tensor(158.84866, shape=(), dtype=float32)\n",
            "loss: tf.Tensor(168.2739, shape=(), dtype=float32)\n",
            "loss: tf.Tensor(162.08528, shape=(), dtype=float32)\n",
            "loss: tf.Tensor(164.27628, shape=(), dtype=float32)\n",
            "loss: tf.Tensor(176.12555, shape=(), dtype=float32)\n",
            "loss: tf.Tensor(170.06021, shape=(), dtype=float32)\n",
            "loss: tf.Tensor(171.91727, shape=(), dtype=float32)\n",
            "loss: tf.Tensor(172.99353, shape=(), dtype=float32)\n",
            "loss: tf.Tensor(164.03244, shape=(), dtype=float32)\n",
            "loss: tf.Tensor(156.06778, shape=(), dtype=float32)\n",
            "loss: tf.Tensor(178.6802, shape=(), dtype=float32)\n",
            "loss: tf.Tensor(162.18521, shape=(), dtype=float32)\n",
            "loss: tf.Tensor(163.73076, shape=(), dtype=float32)\n",
            "loss: tf.Tensor(158.37222, shape=(), dtype=float32)\n",
            "loss: tf.Tensor(180.54382, shape=(), dtype=float32)\n",
            "loss: tf.Tensor(160.76006, shape=(), dtype=float32)\n",
            "loss: tf.Tensor(162.44379, shape=(), dtype=float32)\n",
            "loss: tf.Tensor(177.00766, shape=(), dtype=float32)\n",
            "loss: tf.Tensor(188.07587, shape=(), dtype=float32)\n",
            "loss: tf.Tensor(166.30588, shape=(), dtype=float32)\n",
            "loss: tf.Tensor(170.16718, shape=(), dtype=float32)\n",
            "loss: tf.Tensor(175.87924, shape=(), dtype=float32)\n",
            "loss: tf.Tensor(151.42609, shape=(), dtype=float32)\n",
            "loss: tf.Tensor(163.14133, shape=(), dtype=float32)\n",
            "loss: tf.Tensor(162.7222, shape=(), dtype=float32)\n",
            "loss: tf.Tensor(162.80461, shape=(), dtype=float32)\n",
            "loss: tf.Tensor(161.15515, shape=(), dtype=float32)\n",
            "loss: tf.Tensor(165.02264, shape=(), dtype=float32)\n",
            "loss: tf.Tensor(144.15727, shape=(), dtype=float32)\n",
            "loss: tf.Tensor(161.24352, shape=(), dtype=float32)\n",
            "loss: tf.Tensor(175.20146, shape=(), dtype=float32)\n",
            "loss: tf.Tensor(176.50507, shape=(), dtype=float32)\n",
            "loss: tf.Tensor(166.42934, shape=(), dtype=float32)\n",
            "loss: tf.Tensor(156.84616, shape=(), dtype=float32)\n",
            "loss: tf.Tensor(156.60449, shape=(), dtype=float32)\n",
            "loss: tf.Tensor(167.27513, shape=(), dtype=float32)\n",
            "loss: tf.Tensor(156.9852, shape=(), dtype=float32)\n",
            "loss: tf.Tensor(165.75713, shape=(), dtype=float32)\n",
            "loss: tf.Tensor(169.04236, shape=(), dtype=float32)\n",
            "loss: tf.Tensor(178.1759, shape=(), dtype=float32)\n",
            "loss: tf.Tensor(158.8949, shape=(), dtype=float32)\n",
            "loss: tf.Tensor(176.13037, shape=(), dtype=float32)\n",
            "loss: tf.Tensor(177.75664, shape=(), dtype=float32)\n",
            "loss: tf.Tensor(158.89066, shape=(), dtype=float32)\n",
            "loss: tf.Tensor(153.32027, shape=(), dtype=float32)\n",
            "loss: tf.Tensor(168.5153, shape=(), dtype=float32)\n",
            "loss: tf.Tensor(177.51768, shape=(), dtype=float32)\n",
            "loss: tf.Tensor(151.39113, shape=(), dtype=float32)\n",
            "loss: tf.Tensor(183.94446, shape=(), dtype=float32)\n",
            "loss: tf.Tensor(170.74228, shape=(), dtype=float32)\n",
            "loss: tf.Tensor(174.3371, shape=(), dtype=float32)\n",
            "loss: tf.Tensor(174.75212, shape=(), dtype=float32)\n",
            "loss: tf.Tensor(167.60693, shape=(), dtype=float32)\n",
            "loss: tf.Tensor(157.51779, shape=(), dtype=float32)\n",
            "loss: tf.Tensor(178.51605, shape=(), dtype=float32)\n",
            "loss: tf.Tensor(154.77292, shape=(), dtype=float32)\n",
            "loss: tf.Tensor(175.69388, shape=(), dtype=float32)\n",
            "loss: tf.Tensor(169.34818, shape=(), dtype=float32)\n",
            "loss: tf.Tensor(161.55017, shape=(), dtype=float32)\n",
            "loss: tf.Tensor(172.68347, shape=(), dtype=float32)\n",
            "loss: tf.Tensor(157.50348, shape=(), dtype=float32)\n",
            "loss: tf.Tensor(167.46265, shape=(), dtype=float32)\n",
            "loss: tf.Tensor(160.13808, shape=(), dtype=float32)\n",
            "loss: tf.Tensor(171.44913, shape=(), dtype=float32)\n",
            "loss: tf.Tensor(159.815, shape=(), dtype=float32)\n",
            "loss: tf.Tensor(171.16574, shape=(), dtype=float32)\n",
            "loss: tf.Tensor(159.30887, shape=(), dtype=float32)\n",
            "loss: tf.Tensor(173.77512, shape=(), dtype=float32)\n",
            "loss: tf.Tensor(152.7158, shape=(), dtype=float32)\n",
            "loss: tf.Tensor(170.42755, shape=(), dtype=float32)\n",
            "loss: tf.Tensor(170.0614, shape=(), dtype=float32)\n",
            "loss: tf.Tensor(165.1665, shape=(), dtype=float32)\n",
            "loss: tf.Tensor(166.43347, shape=(), dtype=float32)\n",
            "loss: tf.Tensor(155.79013, shape=(), dtype=float32)\n",
            "loss: tf.Tensor(166.52284, shape=(), dtype=float32)\n",
            "loss: tf.Tensor(167.52399, shape=(), dtype=float32)\n",
            "loss: tf.Tensor(178.70786, shape=(), dtype=float32)\n",
            "loss: tf.Tensor(162.75906, shape=(), dtype=float32)\n",
            "loss: tf.Tensor(155.35016, shape=(), dtype=float32)\n",
            "loss: tf.Tensor(167.96477, shape=(), dtype=float32)\n",
            "loss: tf.Tensor(162.47261, shape=(), dtype=float32)\n",
            "loss: tf.Tensor(162.85861, shape=(), dtype=float32)\n",
            "loss: tf.Tensor(152.24333, shape=(), dtype=float32)\n",
            "loss: tf.Tensor(173.78989, shape=(), dtype=float32)\n",
            "loss: tf.Tensor(167.06943, shape=(), dtype=float32)\n",
            "loss: tf.Tensor(162.51945, shape=(), dtype=float32)\n",
            "loss: tf.Tensor(162.36041, shape=(), dtype=float32)\n",
            "loss: tf.Tensor(162.18242, shape=(), dtype=float32)\n",
            "loss: tf.Tensor(150.73398, shape=(), dtype=float32)\n",
            "loss: tf.Tensor(170.553, shape=(), dtype=float32)\n",
            "loss: tf.Tensor(163.68439, shape=(), dtype=float32)\n",
            "loss: tf.Tensor(151.29672, shape=(), dtype=float32)\n",
            "loss: tf.Tensor(149.00014, shape=(), dtype=float32)\n",
            "loss: tf.Tensor(168.77612, shape=(), dtype=float32)\n",
            "loss: tf.Tensor(153.45325, shape=(), dtype=float32)\n",
            "loss: tf.Tensor(161.26169, shape=(), dtype=float32)\n",
            "loss: tf.Tensor(162.3037, shape=(), dtype=float32)\n",
            "loss: tf.Tensor(157.38318, shape=(), dtype=float32)\n",
            "loss: tf.Tensor(173.7601, shape=(), dtype=float32)\n",
            "loss: tf.Tensor(159.8976, shape=(), dtype=float32)\n",
            "loss: tf.Tensor(170.29254, shape=(), dtype=float32)\n",
            "loss: tf.Tensor(184.41055, shape=(), dtype=float32)\n",
            "loss: tf.Tensor(163.4892, shape=(), dtype=float32)\n",
            "loss: tf.Tensor(166.59451, shape=(), dtype=float32)\n",
            "loss: tf.Tensor(169.09364, shape=(), dtype=float32)\n",
            "loss: tf.Tensor(177.31927, shape=(), dtype=float32)\n",
            "loss: tf.Tensor(176.86835, shape=(), dtype=float32)\n",
            "loss: tf.Tensor(162.13622, shape=(), dtype=float32)\n",
            "loss: tf.Tensor(174.28816, shape=(), dtype=float32)\n",
            "loss: tf.Tensor(163.51207, shape=(), dtype=float32)\n",
            "loss: tf.Tensor(174.1926, shape=(), dtype=float32)\n",
            "loss: tf.Tensor(181.09021, shape=(), dtype=float32)\n",
            "loss: tf.Tensor(184.08073, shape=(), dtype=float32)\n",
            "loss: tf.Tensor(162.29181, shape=(), dtype=float32)\n",
            "loss: tf.Tensor(163.64389, shape=(), dtype=float32)\n",
            "loss: tf.Tensor(169.89276, shape=(), dtype=float32)\n",
            "loss: tf.Tensor(161.39262, shape=(), dtype=float32)\n",
            "loss: tf.Tensor(153.72256, shape=(), dtype=float32)\n",
            "loss: tf.Tensor(164.25218, shape=(), dtype=float32)\n",
            "loss: tf.Tensor(157.40898, shape=(), dtype=float32)\n",
            "loss: tf.Tensor(162.6521, shape=(), dtype=float32)\n",
            "loss: tf.Tensor(171.17114, shape=(), dtype=float32)\n",
            "loss: tf.Tensor(151.86786, shape=(), dtype=float32)\n",
            "loss: tf.Tensor(165.07043, shape=(), dtype=float32)\n",
            "loss: tf.Tensor(168.64188, shape=(), dtype=float32)\n",
            "loss: tf.Tensor(146.23354, shape=(), dtype=float32)\n",
            "loss: tf.Tensor(143.41116, shape=(), dtype=float32)\n",
            "loss: tf.Tensor(153.20645, shape=(), dtype=float32)\n",
            "loss: tf.Tensor(167.34343, shape=(), dtype=float32)\n",
            "loss: tf.Tensor(145.82634, shape=(), dtype=float32)\n",
            "loss: tf.Tensor(153.897, shape=(), dtype=float32)\n",
            "loss: tf.Tensor(146.99081, shape=(), dtype=float32)\n",
            "loss: tf.Tensor(164.51831, shape=(), dtype=float32)\n",
            "loss: tf.Tensor(170.90335, shape=(), dtype=float32)\n",
            "loss: tf.Tensor(159.02509, shape=(), dtype=float32)\n",
            "loss: tf.Tensor(170.39758, shape=(), dtype=float32)\n",
            "loss: tf.Tensor(159.9955, shape=(), dtype=float32)\n",
            "loss: tf.Tensor(173.861, shape=(), dtype=float32)\n",
            "loss: tf.Tensor(169.68599, shape=(), dtype=float32)\n",
            "loss: tf.Tensor(184.18483, shape=(), dtype=float32)\n",
            "loss: tf.Tensor(158.80838, shape=(), dtype=float32)\n",
            "loss: tf.Tensor(161.44592, shape=(), dtype=float32)\n",
            "loss: tf.Tensor(159.71432, shape=(), dtype=float32)\n",
            "loss: tf.Tensor(164.42892, shape=(), dtype=float32)\n",
            "loss: tf.Tensor(169.4188, shape=(), dtype=float32)\n",
            "loss: tf.Tensor(171.59454, shape=(), dtype=float32)\n",
            "loss: tf.Tensor(169.02269, shape=(), dtype=float32)\n",
            "loss: tf.Tensor(150.02591, shape=(), dtype=float32)\n",
            "loss: tf.Tensor(155.89249, shape=(), dtype=float32)\n",
            "loss: tf.Tensor(160.11925, shape=(), dtype=float32)\n",
            "loss: tf.Tensor(174.08926, shape=(), dtype=float32)\n",
            "loss: tf.Tensor(168.45006, shape=(), dtype=float32)\n",
            "loss: tf.Tensor(169.25305, shape=(), dtype=float32)\n",
            "loss: tf.Tensor(170.27824, shape=(), dtype=float32)\n",
            "loss: tf.Tensor(181.84341, shape=(), dtype=float32)\n",
            "loss: tf.Tensor(167.50668, shape=(), dtype=float32)\n",
            "loss: tf.Tensor(158.72723, shape=(), dtype=float32)\n",
            "loss: tf.Tensor(158.21283, shape=(), dtype=float32)\n",
            "loss: tf.Tensor(177.35425, shape=(), dtype=float32)\n",
            "loss: tf.Tensor(174.11841, shape=(), dtype=float32)\n",
            "loss: tf.Tensor(165.58183, shape=(), dtype=float32)\n",
            "loss: tf.Tensor(164.4074, shape=(), dtype=float32)\n",
            "loss: tf.Tensor(173.83232, shape=(), dtype=float32)\n",
            "loss: tf.Tensor(167.5817, shape=(), dtype=float32)\n",
            "loss: tf.Tensor(164.08582, shape=(), dtype=float32)\n",
            "loss: tf.Tensor(166.51604, shape=(), dtype=float32)\n",
            "loss: tf.Tensor(170.07785, shape=(), dtype=float32)\n",
            "loss: tf.Tensor(160.64833, shape=(), dtype=float32)\n",
            "loss: tf.Tensor(174.60593, shape=(), dtype=float32)\n",
            "loss: tf.Tensor(162.2219, shape=(), dtype=float32)\n",
            "loss: tf.Tensor(167.26941, shape=(), dtype=float32)\n",
            "loss: tf.Tensor(178.3599, shape=(), dtype=float32)\n",
            "loss: tf.Tensor(150.6786, shape=(), dtype=float32)\n",
            "loss: tf.Tensor(179.96472, shape=(), dtype=float32)\n",
            "loss: tf.Tensor(162.21223, shape=(), dtype=float32)\n",
            "loss: tf.Tensor(163.05356, shape=(), dtype=float32)\n",
            "loss: tf.Tensor(172.38124, shape=(), dtype=float32)\n",
            "loss: tf.Tensor(179.8096, shape=(), dtype=float32)\n",
            "loss: tf.Tensor(164.427, shape=(), dtype=float32)\n",
            "loss: tf.Tensor(164.95792, shape=(), dtype=float32)\n",
            "loss: tf.Tensor(163.16632, shape=(), dtype=float32)\n",
            "loss: tf.Tensor(181.66245, shape=(), dtype=float32)\n",
            "loss: tf.Tensor(181.08679, shape=(), dtype=float32)\n",
            "loss: tf.Tensor(170.3654, shape=(), dtype=float32)\n",
            "loss: tf.Tensor(164.89648, shape=(), dtype=float32)\n"
          ]
        }
      ],
      "source": [
        "generate_and_save_images(model, 0, test_sample)\n",
        "\n",
        "for epoch in range(1, epochs + 1):\n",
        "  start_time = time.time()\n",
        "  for train_x in train_dataset:\n",
        "    loss_=train_step(model, train_x, optimizer)\n",
        "    print('loss:',loss_)\n",
        "  end_time = time.time()\n",
        "\n",
        "  loss = tf.keras.metrics.Mean()\n",
        "  for test_x in test_dataset:\n",
        "    loss(compute_loss(model, test_x))\n",
        "  elbo = -loss.result()\n",
        "  display.clear_output(wait=False)\n",
        "  print('Epoch: {}, Test set ELBO: {}, time elapse for current epoch: {}'\n",
        "        .format(epoch, elbo, end_time - start_time))\n",
        "  generate_and_save_images(model, epoch, test_sample)"
      ]
    },
    {
      "cell_type": "markdown",
      "metadata": {
        "id": "P4M_vIbUi7c0"
      },
      "source": [
        "### Display a generated image from the last training epoch"
      ]
    },
    {
      "cell_type": "code",
      "execution_count": null,
      "metadata": {
        "id": "WfO5wCdclHGL"
      },
      "outputs": [],
      "source": [
        "def display_image(epoch_no):\n",
        "  return PIL.Image.open('image_at_epoch_{:04d}.png'.format(epoch_no))"
      ]
    },
    {
      "cell_type": "code",
      "execution_count": null,
      "metadata": {
        "id": "5x3q9_Oe5q0A"
      },
      "outputs": [],
      "source": [
        "plt.imshow(display_image(epoch))\n",
        "plt.axis('off')  # Display images"
      ]
    },
    {
      "cell_type": "markdown",
      "metadata": {
        "id": "NywiH3nL8guF"
      },
      "source": [
        "### Display an animated GIF of all the saved images"
      ]
    },
    {
      "cell_type": "code",
      "execution_count": null,
      "metadata": {
        "id": "IGKQgENQ8lEI"
      },
      "outputs": [],
      "source": [
        "anim_file = 'cvae.gif'\n",
        "\n",
        "with imageio.get_writer(anim_file, mode='I') as writer:\n",
        "  filenames = glob.glob('image*.png')\n",
        "  filenames = sorted(filenames)\n",
        "  for filename in filenames:\n",
        "    image = imageio.imread(filename)\n",
        "    writer.append_data(image)\n",
        "  image = imageio.imread(filename)\n",
        "  writer.append_data(image)"
      ]
    },
    {
      "cell_type": "code",
      "execution_count": null,
      "metadata": {
        "id": "2ZqAEtdqUmJF"
      },
      "outputs": [],
      "source": [
        "import tensorflow_docs.vis.embed as embed\n",
        "embed.embed_file(anim_file)"
      ]
    },
    {
      "cell_type": "markdown",
      "metadata": {
        "id": "PeunRU6TSumT"
      },
      "source": [
        "### Display a 2D manifold of digits from the latent space\n",
        "\n",
        "Running the code below will show a continuous distribution of the different digit classes, with each digit morphing into another across the 2D latent space. Use [TensorFlow Probability](https://www.tensorflow.org/probability) to generate a standard normal distribution for the latent space."
      ]
    },
    {
      "cell_type": "code",
      "execution_count": null,
      "metadata": {
        "cellView": "code",
        "id": "mNcaaYPBS3mj"
      },
      "outputs": [],
      "source": [
        "def plot_latent_images(model, n, digit_size=28):\n",
        "  \"\"\"Plots n x n digit images decoded from the latent space.\"\"\"\n",
        "\n",
        "  norm = tfp.distributions.Normal(0, 1)\n",
        "  grid_x = norm.quantile(np.linspace(0.05, 0.95, n))\n",
        "  grid_y = norm.quantile(np.linspace(0.05, 0.95, n))\n",
        "  image_width = digit_size*n\n",
        "  image_height = image_width\n",
        "  image = np.zeros((image_height, image_width))\n",
        "\n",
        "  for i, yi in enumerate(grid_x):\n",
        "    for j, xi in enumerate(grid_y):\n",
        "      z = np.array([[xi, yi]])\n",
        "      x_decoded = model.sample(z)\n",
        "      digit = tf.reshape(x_decoded[0], (digit_size, digit_size))\n",
        "      image[i * digit_size: (i + 1) * digit_size,\n",
        "            j * digit_size: (j + 1) * digit_size] = digit.numpy()\n",
        "\n",
        "  plt.figure(figsize=(10, 10))\n",
        "  plt.imshow(image, cmap='Greys_r')\n",
        "  plt.axis('Off')\n",
        "  plt.show()"
      ]
    },
    {
      "cell_type": "code",
      "execution_count": null,
      "metadata": {
        "id": "F-ZG69QCZnGY"
      },
      "outputs": [],
      "source": [
        "plot_latent_images(model, 20)"
      ]
    },
    {
      "cell_type": "markdown",
      "metadata": {
        "id": "HrJRef8Ln945"
      },
      "source": [
        "## Next steps\n",
        "\n",
        "This tutorial has demonstrated how to implement a convolutional variational autoencoder using TensorFlow.\n",
        "\n",
        "As a next step, you could try to improve the model output by increasing the network size.\n",
        "For instance, you could try setting the `filter` parameters for each of the `Conv2D` and `Conv2DTranspose` layers to 512.\n",
        "Note that in order to generate the final 2D latent image plot, you would need to keep `latent_dim` to 2. Also, the training time would increase as the network size increases.\n",
        "\n",
        "You could also try implementing a VAE using a different dataset, such as CIFAR-10.\n",
        "\n",
        "VAEs can be implemented in several different styles and of varying complexity. You can find additional implementations in the following sources:\n",
        "- [Variational AutoEncoder (keras.io)](https://keras.io/examples/generative/vae/)\n",
        "- [VAE example from \"Writing custom layers and models\" guide (tensorflow.org)](https://www.tensorflow.org/guide/keras/custom_layers_and_models#putting_it_all_together_an_end-to-end_example)\n",
        "- [TFP Probabilistic Layers: Variational Auto Encoder](https://www.tensorflow.org/probability/examples/Probabilistic_Layers_VAE)\n",
        "\n",
        "If you'd like to learn more about the details of VAEs, please refer to [An Introduction to Variational Autoencoders](https://arxiv.org/abs/1906.02691)."
      ]
    }
  ],
  "metadata": {
    "accelerator": "GPU",
    "colab": {
      "name": "cvae.ipynb",
      "provenance": []
    },
    "kernelspec": {
      "display_name": "Python 3",
      "name": "python3"
    }
  },
  "nbformat": 4,
  "nbformat_minor": 0
}